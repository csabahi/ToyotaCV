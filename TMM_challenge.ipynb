{
  "nbformat": 4,
  "nbformat_minor": 0,
  "metadata": {
    "colab": {
      "provenance": [],
      "authorship_tag": "ABX9TyP0m8Xd4DRT4yoLvsn0iAyM",
      "include_colab_link": true
    },
    "kernelspec": {
      "name": "python3",
      "display_name": "Python 3"
    },
    "language_info": {
      "name": "python"
    }
  },
  "cells": [
    {
      "cell_type": "markdown",
      "metadata": {
        "id": "view-in-github",
        "colab_type": "text"
      },
      "source": [
        "<a href=\"https://colab.research.google.com/github/joeymaillette04/ToyotaCV/blob/wrinkleDetection/TMM_challenge.ipynb\" target=\"_parent\"><img src=\"https://colab.research.google.com/assets/colab-badge.svg\" alt=\"Open In Colab\"/></a>"
      ]
    },
    {
      "cell_type": "code",
      "execution_count": null,
      "metadata": {
        "id": "Gfg8kvfFfjlz"
      },
      "outputs": [],
      "source": [
        "from keras.preprocessing.image import img_to_array, load_img\n",
        "import numpy as np\n",
        "import glob\n",
        "\n",
        "# load your images\n",
        "image_files = glob.glob('path_to_your_images/*.jpg')  # use the appropriate file pattern\n",
        "\n",
        "images = []\n",
        "for file in image_files:\n",
        "    image = load_img(file, target_size=(64, 64))  # use the appropriate target size\n",
        "    image = img_to_array(image)\n",
        "    images.append(image)\n",
        "\n",
        "images = np.array(images)\n",
        "\n",
        "# normalize images\n",
        "images = images / 255\n",
        "\n",
        "# at this point, you should also load your labels and preprocess them in a similar way\n",
        "# labels = ...\n"
      ]
    },
    {
      "cell_type": "code",
      "source": [
        "from sklearn.model_selection import train_test_split\n",
        "\n",
        "train_images, val_images, train_labels, val_labels = train_test_split(images, labels, test_size=0.2, random_state=42)\n"
      ],
      "metadata": {
        "id": "oiAXDcwc95_S"
      },
      "execution_count": null,
      "outputs": []
    },
    {
      "cell_type": "code",
      "source": [
        "from keras.models import Sequential\n",
        "from keras.layers import Conv2D, MaxPooling2D, Flatten, Dense\n",
        "\n",
        "model = Sequential()\n",
        "model.add(Conv2D(32, (3, 3), activation='relu', input_shape=(64, 64, 3)))\n",
        "model.add(MaxPooling2D((2, 2)))\n",
        "model.add(Conv2D(64, (3, 3), activation='relu'))\n",
        "model.add(MaxPooling2D((2, 2)))\n",
        "model.add(Conv2D(64, (3, 3), activation='relu'))\n",
        "model.add(Flatten())\n",
        "model.add(Dense(64, activation='relu'))\n",
        "model.add(Dense(1, activation='sigmoid'))\n"
      ],
      "metadata": {
        "id": "spd3uXoX96u7"
      },
      "execution_count": null,
      "outputs": []
    },
    {
      "cell_type": "code",
      "source": [
        "model.compile(optimizer='adam',\n",
        "              loss='binary_crossentropy',\n",
        "              metrics=['accuracy'])\n"
      ],
      "metadata": {
        "id": "KWNwZh7M9_VF"
      },
      "execution_count": null,
      "outputs": []
    },
    {
      "cell_type": "code",
      "source": [
        "model.fit(train_images, train_labels, epochs=10, validation_data=(val_images, val_labels))\n"
      ],
      "metadata": {
        "id": "TzTPJIy7BGdD"
      },
      "execution_count": null,
      "outputs": []
    },
    {
      "cell_type": "code",
      "source": [
        "def predict_wrinkles(model, image_file):\n",
        "    image = load_img(image_file, target_size=(64, 64))\n",
        "    image = img_to_array(image)\n",
        "    image = np.expand_dims(image, axis=0)\n",
        "    image = image / 255\n",
        "    prediction = model.predict(image)\n",
        "    return prediction > 0.5  # returns True if the model predicts wrinkles, False otherwise\n",
        "\n",
        "# usage:\n",
        "# print(predict_wrinkles(model, 'path_to_your_image.jpg'))\n"
      ],
      "metadata": {
        "id": "B4WoJllqBIXW"
      },
      "execution_count": null,
      "outputs": []
    }
  ]
}